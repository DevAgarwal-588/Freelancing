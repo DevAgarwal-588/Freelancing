{
  "nbformat": 4,
  "nbformat_minor": 0,
  "metadata": {
    "colab": {
      "name": "Q1.ipynb",
      "provenance": []
    },
    "kernelspec": {
      "name": "python3",
      "display_name": "Python 3"
    },
    "language_info": {
      "name": "python"
    },
    "accelerator": "TPU"
  },
  "cells": [
    {
      "cell_type": "code",
      "metadata": {
        "id": "ztuDeYZUOF9J"
      },
      "source": [
        "import numpy as np\n",
        "import pandas as pd\n",
        "from sklearn.datasets import load_iris \n",
        "from sklearn.model_selection import train_test_split\n",
        "from sklearn.metrics import confusion_matrix, roc_curve, auc\n",
        "import matplotlib.pyplot as plt"
      ],
      "execution_count": null,
      "outputs": []
    },
    {
      "cell_type": "code",
      "metadata": {
        "id": "I-jZ6cNtXOXm"
      },
      "source": [
        "iris = load_iris()\n",
        "\n",
        "# store the feature matrix (X) and response vector (y) \n",
        "x = iris.data \n",
        "y = iris.target\n",
        "\n",
        "# splitting X and y into training and testing sets \n",
        "x_train, x_test, y_train, y_test = train_test_split(x, y, test_size=0.2)"
      ],
      "execution_count": null,
      "outputs": []
    },
    {
      "cell_type": "code",
      "metadata": {
        "id": "yPW2amPMdJBN"
      },
      "source": [
        "def fit(X, Y):\n",
        "\n",
        "  X = pd.DataFrame(X, columns=iris.feature_names)\n",
        "  Y = pd.DataFrame(Y).loc[:,0]\n",
        "\n",
        "  mean = X.groupby(by=Y).mean()\n",
        "  var = X.groupby(by=Y).var()\n",
        "  \n",
        "  mean = np.array(mean)\n",
        "  var = np.array(var)\n",
        "\n",
        "  return mean, var"
      ],
      "execution_count": null,
      "outputs": []
    },
    {
      "cell_type": "code",
      "metadata": {
        "id": "6Ry1hH5fyvV3"
      },
      "source": [
        "def cond_prob_xC (v, mean, var):\n",
        "  prob = (1/np.sqrt(2*np.pi*var))*np.exp(-1*np.square(v - mean)/(2*var))\n",
        "  return prob"
      ],
      "execution_count": null,
      "outputs": []
    },
    {
      "cell_type": "code",
      "metadata": {
        "id": "YlexQed_4sbB"
      },
      "source": [
        "def pri_prob (y_train):\n",
        "  val, count = np.unique(y_train, return_counts=True)\n",
        "  pri_prob = (count/len(y_train)).reshape((len(val), 1))\n",
        "  return pri_prob"
      ],
      "execution_count": null,
      "outputs": []
    },
    {
      "cell_type": "code",
      "metadata": {
        "id": "ZU6-FmAU2X6g"
      },
      "source": [
        "def po_prob (prob, prior_prob):\n",
        "  prob = np.prod(prob, axis = 1).reshape((3,1))\n",
        "  post_prob = prob * prior_prob\n",
        "  return post_prob"
      ],
      "execution_count": null,
      "outputs": []
    },
    {
      "cell_type": "code",
      "metadata": {
        "id": "WnY0WxUAjidp"
      },
      "source": [
        "def roc(test, n, y_score):\n",
        "\n",
        "  y_test = np.zeros((len(test),))\n",
        "\n",
        "  for i in range (len(test)):\n",
        "    if(test[i] != n):\n",
        "      y_test[i] = 0\n",
        "    else:\n",
        "      y_test[i] = 1\n",
        "\n",
        "  sc = y_score[:,n].reshape(len(y_score),)\n",
        "  fpr, tpr, thresholds = roc_curve(y_test, sc)\n",
        "  roc_auc = auc(fpr, tpr)\n",
        "  plt.title('Receiver Operating Characteristic')\n",
        "  plt.plot(fpr, tpr, 'b', label = 'AUC = %0.2f' % roc_auc)\n",
        "  plt.legend(loc = 'lower right')\n",
        "  plt.plot([0, 1], [0, 1],'r--')\n",
        "  plt.xlim([0, 1])\n",
        "  plt.ylim([0, 1])\n",
        "  plt.ylabel('True Positive Rate')\n",
        "  plt.xlabel('False Positive Rate')\n",
        "  plt.show()"
      ],
      "execution_count": null,
      "outputs": []
    },
    {
      "cell_type": "code",
      "metadata": {
        "id": "Yv0uIrMZ7s4v"
      },
      "source": [
        "def predict(x_train, y_train, x_test, y_test ):\n",
        "\n",
        "  print('Initiating Prediction')\n",
        "  print('=============================')\n",
        "\n",
        "\n",
        "  mean, var = fit(x_train, y_train)\n",
        "  print(\"Mean of the training data is\")\n",
        "  print(mean)\n",
        "  print('Varince of the training data is')\n",
        "  print(var)\n",
        "\n",
        "\n",
        "  print('=============================')\n",
        "  print('Calculating Prior Probability')\n",
        "  prior_prob = pri_prob(y_train)\n",
        "  print(\"Prior Probability of training data is\")\n",
        "  print(prior_prob)\n",
        "\n",
        "\n",
        "  print('=============================')\n",
        "  y_score = np.zeros((len(y_test), (len(np.unique(y_test)))))\n",
        "  pred = np.zeros(shape=(1, len(x_test)))\n",
        "  for i in range (len(x_test)):\n",
        "    cond_prob = cond_prob_xC (x_test[i], mean, var)\n",
        "    post_prob = po_prob (cond_prob, prior_prob)\n",
        "    y_score[i] = post_prob.reshape(3,)\n",
        "    result, _ = np.where(post_prob == np.amax(post_prob))\n",
        "    pred[0][i] = result\n",
        "  print(\"Prediction on the training data is as follows\")\n",
        "  print(pred)\n",
        "\n",
        "\n",
        "  print('=============================')\n",
        "  print(\"Calculating Accuracy\")\n",
        "  truth = pred == y_test\n",
        "  count = np.count_nonzero(truth)\n",
        "  acc = (count/len(y_test)) * 100\n",
        "  print(\"Accuracy achieved is:\", acc)\n",
        "\n",
        "\n",
        "  print('=============================')\n",
        "  print(\"Calculating Class-wise Accuracy\")\n",
        "  class_wise = np.zeros((len(np.unique(y_test)), 2))\n",
        "  for i in range(len(y_test)):\n",
        "    if(y_test[i] == 0):\n",
        "      class_wise[0][1] = class_wise[0][1] + 1\n",
        "      if (pred[0][i] == 0):\n",
        "        class_wise[0][0] = class_wise[0][0] + 1\n",
        "    if(y_test[i] == 1):\n",
        "      class_wise[1][1] = class_wise[1][1] + 1\n",
        "      if (pred[0][i] == 1):\n",
        "        class_wise[1][0] = class_wise[1][0] + 1\n",
        "    if(y_test[i] == 2):\n",
        "      class_wise[2][1] = class_wise[2][1] + 1\n",
        "      if (pred[0][i] == 2):\n",
        "        class_wise[2][0] = class_wise[2][0] + 1\n",
        "  for i in range(len(np.unique(y_test))):\n",
        "    print(\"Accuracy for class {} is {}\".format(i,(class_wise[i][0]/class_wise[i][1])*100 ))\n",
        "\n",
        "\n",
        "  print(\"=============================\")\n",
        "  print(\"Printing confusion matrix\")\n",
        "  print(confusion_matrix(y_test, pred.reshape(len(y_test),)))\n",
        "  \n",
        "  for i in range(3):\n",
        "    print(\"=============================\")\n",
        "    print(\"printing ROC curve for class {}\".format(i))\n",
        "    roc(y_test, i, y_score)\n",
        "\n",
        "  return pred.reshape(len(y_test),)"
      ],
      "execution_count": null,
      "outputs": []
    },
    {
      "cell_type": "code",
      "metadata": {
        "colab": {
          "base_uri": "https://localhost:8080/",
          "height": 1000
        },
        "id": "hZ9A23QdY5vd",
        "outputId": "f7452575-4a02-4244-f5b4-70b2ea49d5b1"
      },
      "source": [
        "pred = predict(x_train, y_train, x_test, y_test )"
      ],
      "execution_count": null,
      "outputs": [
        {
          "output_type": "stream",
          "text": [
            "Initiating Prediction\n",
            "=============================\n",
            "Mean of the training data is\n",
            "[[4.94358974 3.36666667 1.42820513 0.22564103]\n",
            " [5.88717949 2.75128205 4.22051282 1.32307692]\n",
            " [6.59285714 3.00238095 5.5452381  2.04285714]]\n",
            "Varince of the training data is\n",
            "[[0.12147099 0.12807018 0.02839406 0.01037787]\n",
            " [0.2879892  0.09940621 0.25483131 0.04392713]\n",
            " [0.40311847 0.1002381  0.29668409 0.06348432]]\n",
            "=============================\n",
            "Calculating Prior Probability\n",
            "Prior Probability of training data is\n",
            "[[0.325]\n",
            " [0.325]\n",
            " [0.35 ]]\n",
            "=============================\n",
            "Prediction on the training data is as follows\n",
            "[[2. 1. 1. 2. 0. 1. 1. 0. 2. 2. 0. 0. 0. 1. 2. 0. 0. 1. 2. 1. 0. 1. 1. 0.\n",
            "  1. 0. 1. 0. 1. 1.]]\n",
            "=============================\n",
            "Calculating Accuracy\n",
            "Accuracy achieved is: 93.33333333333333\n",
            "=============================\n",
            "Calculating Class-wise Accuracy\n",
            "Accuracy for class 0 is 100.0\n",
            "Accuracy for class 1 is 100.0\n",
            "Accuracy for class 2 is 75.0\n",
            "=============================\n",
            "Printing confusion matrix\n",
            "[[11  0  0]\n",
            " [ 0 11  0]\n",
            " [ 0  2  6]]\n",
            "=============================\n",
            "printing ROC curve for class 0\n"
          ],
          "name": "stdout"
        },
        {
          "output_type": "display_data",
          "data": {
            "image/png": "[encoded data removed]",
            "text/plain": [
              "<Figure size 432x288 with 1 Axes>"
            ]
          },
          "metadata": {
            "tags": [],
            "needs_background": "light"
          }
        },
        {
          "output_type": "stream",
          "text": [
            "=============================\n",
            "printing ROC curve for class 1\n"
          ],
          "name": "stdout"
        },
        {
          "output_type": "display_data",
          "data": {
            "image/png": "[encoded data removed]",
            "text/plain": [
              "<Figure size 432x288 with 1 Axes>"
            ]
          },
          "metadata": {
            "tags": [],
            "needs_background": "light"
          }
        },
        {
          "output_type": "stream",
          "text": [
            "=============================\n",
            "printing ROC curve for class 2\n"
          ],
          "name": "stdout"
        },
        {
          "output_type": "display_data",
          "data": {
            "image/png": "[encoded data removed]",
            "text/plain": [
              "<Figure size 432x288 with 1 Axes>"
            ]
          },
          "metadata": {
            "tags": [],
            "needs_background": "light"
          }
        }
      ]
    },
    {
      "cell_type": "code",
      "metadata": {
        "id": "xXs5__3onCpS"
      },
      "source": [
        ""
      ],
      "execution_count": null,
      "outputs": []
    }
  ]
}