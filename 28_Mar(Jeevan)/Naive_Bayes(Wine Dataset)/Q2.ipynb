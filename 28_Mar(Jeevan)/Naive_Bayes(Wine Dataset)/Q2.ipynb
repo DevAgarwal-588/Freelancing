{
  "nbformat": 4,
  "nbformat_minor": 0,
  "metadata": {
    "colab": {
      "name": "Q2.ipynb",
      "provenance": [],
      "collapsed_sections": []
    },
    "kernelspec": {
      "name": "python3",
      "display_name": "Python 3"
    },
    "language_info": {
      "name": "python"
    }
  },
  "cells": [
    {
      "cell_type": "code",
      "metadata": {
        "id": "L0EzXuo4CgQJ"
      },
      "source": [
        "import numpy as np\n",
        "import pandas as pd\n",
        "from sklearn.datasets import load_wine\n",
        "from sklearn.model_selection import train_test_split\n",
        "from sklearn.metrics import confusion_matrix, accuracy_score, roc_auc_score, roc_curve\n",
        "from sklearn.utils import shuffle\n",
        "import matplotlib.pyplot as plt"
      ],
      "execution_count": null,
      "outputs": []
    },
    {
      "cell_type": "code",
      "metadata": {
        "id": "v9q5njUODTIK"
      },
      "source": [
        "wine = load_wine()\n",
        "\n",
        "# store the feature matrix (X) and response vector (y) \n",
        "x = wine.data \n",
        "y = wine.target\n",
        "\n",
        "# splitting X and y into training and testing sets \n",
        "x_train, x_test, y_train, y_test = train_test_split(x, y, test_size=0.3, random_state = 42,shuffle = True, stratify = y)"
      ],
      "execution_count": null,
      "outputs": []
    },
    {
      "cell_type": "code",
      "metadata": {
        "id": "K6l9lTGTEeou",
        "colab": {
          "base_uri": "https://localhost:8080/"
        },
        "outputId": "69f81c3b-aa8b-4b36-e521-779b53757348"
      },
      "source": [
        "x_train"
      ],
      "execution_count": null,
      "outputs": [
        {
          "output_type": "execute_result",
          "data": {
            "text/plain": [
              "array([[1.375e+01, 1.730e+00, 2.410e+00, ..., 1.150e+00, 2.900e+00,\n",
              "        1.320e+03],\n",
              "       [1.373e+01, 1.500e+00, 2.700e+00, ..., 1.190e+00, 2.710e+00,\n",
              "        1.285e+03],\n",
              "       [1.328e+01, 1.640e+00, 2.840e+00, ..., 1.090e+00, 2.780e+00,\n",
              "        8.800e+02],\n",
              "       ...,\n",
              "       [1.311e+01, 1.900e+00, 2.750e+00, ..., 6.100e-01, 1.330e+00,\n",
              "        4.250e+02],\n",
              "       [1.225e+01, 4.720e+00, 2.540e+00, ..., 7.500e-01, 1.270e+00,\n",
              "        7.200e+02],\n",
              "       [1.264e+01, 1.360e+00, 2.020e+00, ..., 9.800e-01, 1.590e+00,\n",
              "        4.500e+02]])"
            ]
          },
          "metadata": {
            "tags": []
          },
          "execution_count": 19
        }
      ]
    },
    {
      "cell_type": "code",
      "metadata": {
        "colab": {
          "base_uri": "https://localhost:8080/"
        },
        "id": "_Ag_SOwXqRzU",
        "outputId": "796955aa-4ff9-4083-c69b-c78737635654"
      },
      "source": [
        "y_train"
      ],
      "execution_count": null,
      "outputs": [
        {
          "output_type": "execute_result",
          "data": {
            "text/plain": [
              "array([0, 0, 0, 0, 1, 0, 2, 1, 2, 0, 1, 1, 2, 1, 0, 0, 0, 1, 1, 0, 1, 1,\n",
              "       1, 1, 1, 2, 1, 0, 2, 1, 2, 2, 0, 2, 1, 1, 1, 1, 2, 0, 0, 0, 0, 0,\n",
              "       0, 1, 1, 2, 0, 2, 0, 0, 0, 2, 0, 2, 1, 1, 1, 0, 1, 0, 1, 1, 0, 2,\n",
              "       1, 0, 0, 1, 1, 2, 0, 0, 2, 1, 1, 1, 2, 2, 2, 2, 1, 1, 0, 0, 1, 1,\n",
              "       1, 2, 2, 1, 1, 2, 0, 0, 0, 2, 1, 2, 1, 1, 2, 0, 1, 1, 0, 1, 2, 1,\n",
              "       2, 0, 2, 0, 0, 1, 1, 2, 0, 2, 1, 2, 2, 1])"
            ]
          },
          "metadata": {
            "tags": []
          },
          "execution_count": 20
        }
      ]
    },
    {
      "cell_type": "code",
      "metadata": {
        "id": "AEyQlLOTyxEr"
      },
      "source": [
        "def classwise_distribution (arr):\n",
        "  unique_elements, counts_elements = np.unique(arr, return_counts=True)\n",
        "  plt.bar(unique_elements, counts_elements, 1)\n",
        "  plt.title('Class Frequency')\n",
        "  plt.xlabel('Class')\n",
        "  plt.ylabel('Frequency')\n",
        "  plt.show()"
      ],
      "execution_count": null,
      "outputs": []
    },
    {
      "cell_type": "code",
      "metadata": {
        "id": "7od3FYjRyoDF"
      },
      "source": [
        "def fit(X, Y):\n",
        "\n",
        "  X = pd.DataFrame(X, columns=wine.feature_names)\n",
        "  Y = pd.DataFrame(Y).loc[:,0]\n",
        "\n",
        "  mean = X.groupby(by=Y).mean()\n",
        "  var = X.groupby(by=Y).var()\n",
        "  \n",
        "  mean = np.array(mean)\n",
        "  var = np.array(var)\n",
        "\n",
        "  return mean, var\n",
        "\n",
        "def cond_prob_xC (v, mean, var):\n",
        "  prob = (1/np.sqrt(2*np.pi*var))*np.exp(-1*np.square(v - mean)/(2*var))\n",
        "  return prob\n",
        "\n",
        "def pri_prob (y_train):\n",
        "  val, count = np.unique(y_train, return_counts=True)\n",
        "  pri_prob = (count/len(y_train)).reshape((len(val), 1))\n",
        "  return pri_prob\n",
        "\n",
        "def po_prob (prob, prior_prob):\n",
        "  prob = np.prod(prob, axis = 1).reshape((3,1))\n",
        "  post_prob = prob * prior_prob\n",
        "  return post_prob\n",
        "\n"
      ],
      "execution_count": null,
      "outputs": []
    },
    {
      "cell_type": "code",
      "metadata": {
        "id": "HM_E-Z4ZzdL_"
      },
      "source": [
        "def predict(x_train, y_train, x_test, y_test ):\n",
        "  print('class-wise distribution of Training Set')\n",
        "  classwise_distribution (y_train)\n",
        "  print('=============================')\n",
        "  print('class-wise distribution of Test Set')\n",
        "  classwise_distribution (y_test)\n",
        "  print('=============================')\n",
        "\n",
        "  print('Initiating Prediction')\n",
        "  print('=============================')\n",
        "\n",
        "\n",
        "  mean, var = fit(x_train, y_train)\n",
        "  print(\"Mean of the training data is\")\n",
        "  print(mean)\n",
        "  print('Varince of the training data is')\n",
        "  print(var)\n",
        "\n",
        "\n",
        "  print('=============================')\n",
        "  print('Calculating Prior Probability')\n",
        "  prior_prob = pri_prob(y_train)\n",
        "  print(\"Prior Probability of training data is\")\n",
        "  print(prior_prob)\n",
        "\n",
        "\n",
        "  print('=============================')\n",
        "  y_score = np.zeros((len(y_test), (len(np.unique(y_test)))))\n",
        "  pred = np.zeros(shape=(1, len(x_test)))\n",
        "  for i in range (len(x_test)):\n",
        "    cond_prob = cond_prob_xC (x_test[i], mean, var)\n",
        "    post_prob = po_prob (cond_prob, prior_prob)\n",
        "    y_score[i] = post_prob.reshape(3,)\n",
        "    result, _ = np.where(post_prob == np.amax(post_prob))\n",
        "    pred[0][i] = result\n",
        "  print(\"Prediction on the training data is as follows\")\n",
        "  print(pred)\n",
        "\n",
        "  print('=============================')\n",
        "  print(\"Calculating Accuracy\")\n",
        "  truth = pred == y_test\n",
        "  count = np.count_nonzero(truth)\n",
        "  acc = (count/len(y_test)) * 100\n",
        "  print(\"Accuracy achieved is:\", acc)\n",
        "\n",
        "\n",
        "  print(\"=============================\")\n",
        "  print(\"Printing confusion matrix\")\n",
        "  print(confusion_matrix(y_test, pred.reshape(len(y_test),)))\n",
        "\n",
        "  return pred.reshape(len(y_test),)"
      ],
      "execution_count": null,
      "outputs": []
    },
    {
      "cell_type": "code",
      "metadata": {
        "colab": {
          "base_uri": "https://localhost:8080/",
          "height": 1000
        },
        "id": "snbwVq7wz3kr",
        "outputId": "734574f2-e07c-47bb-bba0-ac4588b56e3b"
      },
      "source": [
        "pred = predict(x_train, y_train, x_test, y_test )"
      ],
      "execution_count": null,
      "outputs": [
        {
          "output_type": "stream",
          "text": [
            "class-wise distribution of Training Set\n"
          ],
          "name": "stdout"
        },
        {
          "output_type": "display_data",
          "data": {
            "image/png": "[encoded data removed]",
            "text/plain": [
              "<Figure size 432x288 with 1 Axes>"
            ]
          },
          "metadata": {
            "tags": [],
            "needs_background": "light"
          }
        },
        {
          "output_type": "stream",
          "text": [
            "=============================\n",
            "class-wise distribution of Test Set\n"
          ],
          "name": "stdout"
        },
        {
          "output_type": "display_data",
          "data": {
            "image/png": "[encoded data removed]",
            "text/plain": [
              "<Figure size 432x288 with 1 Axes>"
            ]
          },
          "metadata": {
            "tags": [],
            "needs_background": "light"
          }
        },
        {
          "output_type": "stream",
          "text": [
            "=============================\n",
            "Initiating Prediction\n",
            "=============================\n",
            "Mean of the training data is\n",
            "[[1.37304878e+01 1.94707317e+00 2.44975610e+00 1.71024390e+01\n",
            "  1.06634146e+02 2.82853659e+00 2.94024390e+00 3.01707317e-01\n",
            "  1.85121951e+00 5.56780488e+00 1.05097561e+00 3.08853659e+00\n",
            "  1.11280488e+03]\n",
            " [1.22424000e+01 1.96260000e+00 2.23280000e+00 2.05240000e+01\n",
            "  9.51400000e+01 2.25360000e+00 2.04680000e+00 3.50800000e-01\n",
            "  1.71220000e+00 2.96080000e+00 1.05892000e+00 2.80220000e+00\n",
            "  5.31260000e+02]\n",
            " [1.30745455e+01 3.20090909e+00 2.45424242e+00 2.15606061e+01\n",
            "  9.92727273e+01 1.68757576e+00 7.87575758e-01 4.46363636e-01\n",
            "  1.13878788e+00 7.36272724e+00 6.73030303e-01 1.69060606e+00\n",
            "  6.24393939e+02]]\n",
            "Varince of the training data is\n",
            "[[2.08024756e-01 4.05656220e-01 6.21124390e-02 7.47774390e+00\n",
            "  1.19187805e+02 1.17752805e-01 1.41067439e-01 5.52951220e-03\n",
            "  1.50045976e-01 1.52011756e+00 1.29790244e-02 1.11587805e-01\n",
            "  4.07188110e+04]\n",
            " [2.75557388e-01 1.13044412e+00 8.04940408e-02 1.08014531e+01\n",
            "  3.54694286e+02 3.03276571e-01 3.74165061e-01 1.25707755e-02\n",
            "  3.66572612e-01 7.65342204e-01 4.04950547e-02 2.33184857e-01\n",
            "  2.62818698e+04]\n",
            " [2.69831818e-01 9.06608523e-01 3.28001894e-02 4.93371212e+00\n",
            "  1.06079545e+02 1.52000189e-01 1.05537689e-01 1.49863636e-02\n",
            "  2.19423485e-01 6.05363280e+00 1.44092803e-02 8.75808712e-02\n",
            "  1.39871212e+04]]\n",
            "=============================\n",
            "Calculating Prior Probability\n",
            "Prior Probability of training data is\n",
            "[[0.33064516]\n",
            " [0.40322581]\n",
            " [0.26612903]]\n",
            "=============================\n",
            "Prediction on the training data is as follows\n",
            "[[0. 1. 0. 0. 0. 0. 2. 1. 1. 2. 1. 1. 2. 1. 0. 2. 1. 0. 2. 2. 1. 2. 2. 2.\n",
            "  1. 2. 0. 1. 0. 1. 0. 1. 2. 1. 1. 2. 1. 1. 1. 0. 2. 0. 0. 0. 0. 1. 1. 0.\n",
            "  2. 0. 1. 1. 2. 0.]]\n",
            "=============================\n",
            "Calculating Accuracy\n",
            "Accuracy achieved is: 100.0\n",
            "=============================\n",
            "Printing confusion matrix\n",
            "[[18  0  0]\n",
            " [ 0 21  0]\n",
            " [ 0  0 15]]\n"
          ],
          "name": "stdout"
        }
      ]
    },
    {
      "cell_type": "code",
      "metadata": {
        "id": "sHlg51QC1F1_"
      },
      "source": [
        "def predict_1(x_train, y_train, x_test, y_test ):\n",
        "  print('class-wise distribution of Training Set')\n",
        "  classwise_distribution (y_train)\n",
        "  print('=============================')\n",
        "  print('class-wise distribution of Test Set')\n",
        "  classwise_distribution (y_test)\n",
        "  print('=============================')\n",
        "\n",
        "  print('Initiating Prediction')\n",
        "  print('=============================')\n",
        "\n",
        "\n",
        "  mean, var = fit(x_train, y_train)\n",
        "  print(\"Mean of the training data is\")\n",
        "  print(mean)\n",
        "  print('Varince of the training data is')\n",
        "  print(var)\n",
        "\n",
        "\n",
        "  print('=============================')\n",
        "  print('Calculating Prior Probability')\n",
        "  prior_prob = np.array([[40],\n",
        "                         [40],\n",
        "                         [20]])\n",
        "  print(\"Prior Probability of training data is\")\n",
        "  print(prior_prob)\n",
        "\n",
        "\n",
        "  print('=============================')\n",
        "  y_score = np.zeros((len(y_test), (len(np.unique(y_test)))))\n",
        "  pred = np.zeros(shape=(1, len(x_test)))\n",
        "  for i in range (len(x_test)):\n",
        "    cond_prob = cond_prob_xC (x_test[i], mean, var)\n",
        "    post_prob = po_prob (cond_prob, prior_prob)\n",
        "    y_score[i] = post_prob.reshape(3,)\n",
        "    result, _ = np.where(post_prob == np.amax(post_prob))\n",
        "    pred[0][i] = result\n",
        "  print(\"Prediction on the training data is as follows\")\n",
        "  print(pred)\n",
        "\n",
        "  print('=============================')\n",
        "  print(\"Calculating Accuracy\")\n",
        "  truth = pred == y_test\n",
        "  count = np.count_nonzero(truth)\n",
        "  acc = (count/len(y_test)) * 100\n",
        "  print(\"Accuracy achieved is:\", acc)\n",
        "\n",
        "\n",
        "  print(\"=============================\")\n",
        "  print(\"Printing confusion matrix\")\n",
        "  print(confusion_matrix(y_test, pred.reshape(len(y_test),)))\n",
        "\n",
        "  return pred.reshape(len(y_test),)"
      ],
      "execution_count": null,
      "outputs": []
    },
    {
      "cell_type": "code",
      "metadata": {
        "colab": {
          "base_uri": "https://localhost:8080/",
          "height": 1000
        },
        "id": "TCZP2J3x1lUQ",
        "outputId": "46fe2467-0cd5-4b57-e1f2-f78830c2b368"
      },
      "source": [
        "pred = predict_1(x_train, y_train, x_test, y_test )"
      ],
      "execution_count": null,
      "outputs": [
        {
          "output_type": "stream",
          "text": [
            "class-wise distribution of Training Set\n"
          ],
          "name": "stdout"
        },
        {
          "output_type": "display_data",
          "data": {
            "image/png": "[encoded data removed]",
            "text/plain": [
              "<Figure size 432x288 with 1 Axes>"
            ]
          },
          "metadata": {
            "tags": [],
            "needs_background": "light"
          }
        },
        {
          "output_type": "stream",
          "text": [
            "=============================\n",
            "class-wise distribution of Test Set\n"
          ],
          "name": "stdout"
        },
        {
          "output_type": "display_data",
          "data": {
            "image/png": "[encoded data removed]",
            "text/plain": [
              "<Figure size 432x288 with 1 Axes>"
            ]
          },
          "metadata": {
            "tags": [],
            "needs_background": "light"
          }
        },
        {
          "output_type": "stream",
          "text": [
            "=============================\n",
            "Initiating Prediction\n",
            "=============================\n",
            "Mean of the training data is\n",
            "[[1.37304878e+01 1.94707317e+00 2.44975610e+00 1.71024390e+01\n",
            "  1.06634146e+02 2.82853659e+00 2.94024390e+00 3.01707317e-01\n",
            "  1.85121951e+00 5.56780488e+00 1.05097561e+00 3.08853659e+00\n",
            "  1.11280488e+03]\n",
            " [1.22424000e+01 1.96260000e+00 2.23280000e+00 2.05240000e+01\n",
            "  9.51400000e+01 2.25360000e+00 2.04680000e+00 3.50800000e-01\n",
            "  1.71220000e+00 2.96080000e+00 1.05892000e+00 2.80220000e+00\n",
            "  5.31260000e+02]\n",
            " [1.30745455e+01 3.20090909e+00 2.45424242e+00 2.15606061e+01\n",
            "  9.92727273e+01 1.68757576e+00 7.87575758e-01 4.46363636e-01\n",
            "  1.13878788e+00 7.36272724e+00 6.73030303e-01 1.69060606e+00\n",
            "  6.24393939e+02]]\n",
            "Varince of the training data is\n",
            "[[2.08024756e-01 4.05656220e-01 6.21124390e-02 7.47774390e+00\n",
            "  1.19187805e+02 1.17752805e-01 1.41067439e-01 5.52951220e-03\n",
            "  1.50045976e-01 1.52011756e+00 1.29790244e-02 1.11587805e-01\n",
            "  4.07188110e+04]\n",
            " [2.75557388e-01 1.13044412e+00 8.04940408e-02 1.08014531e+01\n",
            "  3.54694286e+02 3.03276571e-01 3.74165061e-01 1.25707755e-02\n",
            "  3.66572612e-01 7.65342204e-01 4.04950547e-02 2.33184857e-01\n",
            "  2.62818698e+04]\n",
            " [2.69831818e-01 9.06608523e-01 3.28001894e-02 4.93371212e+00\n",
            "  1.06079545e+02 1.52000189e-01 1.05537689e-01 1.49863636e-02\n",
            "  2.19423485e-01 6.05363280e+00 1.44092803e-02 8.75808712e-02\n",
            "  1.39871212e+04]]\n",
            "=============================\n",
            "Calculating Prior Probability\n",
            "Prior Probability of training data is\n",
            "[[40]\n",
            " [40]\n",
            " [20]]\n",
            "=============================\n",
            "Prediction on the training data is as follows\n",
            "[[0. 1. 0. 0. 0. 0. 2. 1. 1. 2. 1. 1. 2. 1. 0. 2. 1. 0. 2. 2. 1. 2. 2. 2.\n",
            "  1. 2. 0. 1. 0. 1. 0. 0. 2. 1. 1. 2. 1. 1. 1. 0. 2. 0. 0. 0. 0. 1. 1. 0.\n",
            "  2. 0. 1. 1. 2. 0.]]\n",
            "=============================\n",
            "Calculating Accuracy\n",
            "Accuracy achieved is: 98.14814814814815\n",
            "=============================\n",
            "Printing confusion matrix\n",
            "[[18  0  0]\n",
            " [ 1 20  0]\n",
            " [ 0  0 15]]\n"
          ],
          "name": "stdout"
        }
      ]
    },
    {
      "cell_type": "code",
      "metadata": {
        "id": "qCioAwE01oMU"
      },
      "source": [
        "def predict_2(x_train, y_train, x_test, y_test ):\n",
        "  print('class-wise distribution of Training Set')\n",
        "  classwise_distribution (y_train)\n",
        "  print('=============================')\n",
        "  print('class-wise distribution of Test Set')\n",
        "  classwise_distribution (y_test)\n",
        "  print('=============================')\n",
        "\n",
        "  print('Initiating Prediction')\n",
        "  print('=============================')\n",
        "\n",
        "\n",
        "  mean, var = fit(x_train, y_train)\n",
        "  print(\"Mean of the training data is\")\n",
        "  print(mean)\n",
        "  print('Varince of the training data is')\n",
        "  print(var)\n",
        "\n",
        "\n",
        "  print('=============================')\n",
        "  print('Calculating Prior Probability')\n",
        "  prior_prob = np.array([[80],\n",
        "                         [100],\n",
        "                         [100]])\n",
        "  print(\"Prior Probability of training data is\")\n",
        "  print(prior_prob)\n",
        "\n",
        "\n",
        "  print('=============================')\n",
        "  y_score = np.zeros((len(y_test), (len(np.unique(y_test)))))\n",
        "  pred = np.zeros(shape=(1, len(x_test)))\n",
        "  for i in range (len(x_test)):\n",
        "    cond_prob = cond_prob_xC (x_test[i], mean, var)\n",
        "    post_prob = po_prob (cond_prob, prior_prob)\n",
        "    y_score[i] = post_prob.reshape(3,)\n",
        "    result, _ = np.where(post_prob == np.amax(post_prob))\n",
        "    pred[0][i] = result\n",
        "  print(\"Prediction on the training data is as follows\")\n",
        "  print(pred)\n",
        "\n",
        "  print('=============================')\n",
        "  print(\"Calculating Accuracy\")\n",
        "  truth = pred == y_test\n",
        "  count = np.count_nonzero(truth)\n",
        "  acc = (count/len(y_test)) * 100\n",
        "  print(\"Accuracy achieved is:\", acc)\n",
        "\n",
        "\n",
        "  print(\"=============================\")\n",
        "  print(\"Printing confusion matrix\")\n",
        "  print(confusion_matrix(y_test, pred.reshape(len(y_test),)))\n",
        "\n",
        "  return pred.reshape(len(y_test),)"
      ],
      "execution_count": null,
      "outputs": []
    },
    {
      "cell_type": "code",
      "metadata": {
        "colab": {
          "base_uri": "https://localhost:8080/",
          "height": 1000
        },
        "id": "c9Px3BCP1uPi",
        "outputId": "2971d5b2-8ed7-4ccc-db37-ccfa18f3759f"
      },
      "source": [
        "pred = predict_2(x_train, y_train, x_test, y_test )"
      ],
      "execution_count": null,
      "outputs": [
        {
          "output_type": "stream",
          "text": [
            "class-wise distribution of Training Set\n"
          ],
          "name": "stdout"
        },
        {
          "output_type": "display_data",
          "data": {
            "image/png": "[encoded data removed]",
            "text/plain": [
              "<Figure size 432x288 with 1 Axes>"
            ]
          },
          "metadata": {
            "tags": [],
            "needs_background": "light"
          }
        },
        {
          "output_type": "stream",
          "text": [
            "=============================\n",
            "class-wise distribution of Test Set\n"
          ],
          "name": "stdout"
        },
        {
          "output_type": "display_data",
          "data": {
            "image/png": "[encoded data removed]",
            "text/plain": [
              "<Figure size 432x288 with 1 Axes>"
            ]
          },
          "metadata": {
            "tags": [],
            "needs_background": "light"
          }
        },
        {
          "output_type": "stream",
          "text": [
            "=============================\n",
            "Initiating Prediction\n",
            "=============================\n",
            "Mean of the training data is\n",
            "[[1.37304878e+01 1.94707317e+00 2.44975610e+00 1.71024390e+01\n",
            "  1.06634146e+02 2.82853659e+00 2.94024390e+00 3.01707317e-01\n",
            "  1.85121951e+00 5.56780488e+00 1.05097561e+00 3.08853659e+00\n",
            "  1.11280488e+03]\n",
            " [1.22424000e+01 1.96260000e+00 2.23280000e+00 2.05240000e+01\n",
            "  9.51400000e+01 2.25360000e+00 2.04680000e+00 3.50800000e-01\n",
            "  1.71220000e+00 2.96080000e+00 1.05892000e+00 2.80220000e+00\n",
            "  5.31260000e+02]\n",
            " [1.30745455e+01 3.20090909e+00 2.45424242e+00 2.15606061e+01\n",
            "  9.92727273e+01 1.68757576e+00 7.87575758e-01 4.46363636e-01\n",
            "  1.13878788e+00 7.36272724e+00 6.73030303e-01 1.69060606e+00\n",
            "  6.24393939e+02]]\n",
            "Varince of the training data is\n",
            "[[2.08024756e-01 4.05656220e-01 6.21124390e-02 7.47774390e+00\n",
            "  1.19187805e+02 1.17752805e-01 1.41067439e-01 5.52951220e-03\n",
            "  1.50045976e-01 1.52011756e+00 1.29790244e-02 1.11587805e-01\n",
            "  4.07188110e+04]\n",
            " [2.75557388e-01 1.13044412e+00 8.04940408e-02 1.08014531e+01\n",
            "  3.54694286e+02 3.03276571e-01 3.74165061e-01 1.25707755e-02\n",
            "  3.66572612e-01 7.65342204e-01 4.04950547e-02 2.33184857e-01\n",
            "  2.62818698e+04]\n",
            " [2.69831818e-01 9.06608523e-01 3.28001894e-02 4.93371212e+00\n",
            "  1.06079545e+02 1.52000189e-01 1.05537689e-01 1.49863636e-02\n",
            "  2.19423485e-01 6.05363280e+00 1.44092803e-02 8.75808712e-02\n",
            "  1.39871212e+04]]\n",
            "=============================\n",
            "Calculating Prior Probability\n",
            "Prior Probability of training data is\n",
            "[[ 80]\n",
            " [100]\n",
            " [100]]\n",
            "=============================\n",
            "Prediction on the training data is as follows\n",
            "[[0. 1. 0. 0. 0. 0. 2. 1. 1. 2. 1. 1. 2. 1. 0. 2. 1. 0. 2. 2. 1. 2. 2. 2.\n",
            "  1. 2. 0. 1. 0. 1. 0. 1. 2. 1. 1. 2. 1. 1. 1. 0. 2. 0. 0. 0. 0. 1. 1. 0.\n",
            "  2. 0. 1. 1. 2. 0.]]\n",
            "=============================\n",
            "Calculating Accuracy\n",
            "Accuracy achieved is: 100.0\n",
            "=============================\n",
            "Printing confusion matrix\n",
            "[[18  0  0]\n",
            " [ 0 21  0]\n",
            " [ 0  0 15]]\n"
          ],
          "name": "stdout"
        }
      ]
    },
    {
      "cell_type": "code",
      "metadata": {
        "id": "rrrtmSQp2MXi"
      },
      "source": [
        ""
      ],
      "execution_count": null,
      "outputs": []
    }
  ]
}